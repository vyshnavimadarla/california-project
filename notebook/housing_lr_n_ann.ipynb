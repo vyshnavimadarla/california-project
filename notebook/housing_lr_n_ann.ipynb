{
 "cells": [
  {
   "cell_type": "code",
   "execution_count": 1,
   "id": "a048ede7",
   "metadata": {},
   "outputs": [
    {
     "name": "stdout",
     "output_type": "stream",
     "text": [
      "WARNING:tensorflow:From C:\\Users\\vaish\\anaconda3\\Lib\\site-packages\\keras\\src\\losses.py:2976: The name tf.losses.sparse_softmax_cross_entropy is deprecated. Please use tf.compat.v1.losses.sparse_softmax_cross_entropy instead.\n",
      "\n"
     ]
    }
   ],
   "source": [
    "import pandas as pd\n",
    "import numpy as np\n",
    "import matplotlib.pyplot as plt\n",
    "from sklearn.datasets import fetch_california_housing\n",
    "from sklearn.metrics import accuracy_score\n",
    "import keras as ks "
   ]
  },
  {
   "cell_type": "code",
   "execution_count": 2,
   "id": "08259117",
   "metadata": {},
   "outputs": [],
   "source": [
    "housing =fetch_california_housing()\n"
   ]
  },
  {
   "cell_type": "code",
   "execution_count": 3,
   "id": "18166b97",
   "metadata": {},
   "outputs": [
    {
     "data": {
      "text/plain": [
       "{'data': array([[   8.3252    ,   41.        ,    6.98412698, ...,    2.55555556,\n",
       "           37.88      , -122.23      ],\n",
       "        [   8.3014    ,   21.        ,    6.23813708, ...,    2.10984183,\n",
       "           37.86      , -122.22      ],\n",
       "        [   7.2574    ,   52.        ,    8.28813559, ...,    2.80225989,\n",
       "           37.85      , -122.24      ],\n",
       "        ...,\n",
       "        [   1.7       ,   17.        ,    5.20554273, ...,    2.3256351 ,\n",
       "           39.43      , -121.22      ],\n",
       "        [   1.8672    ,   18.        ,    5.32951289, ...,    2.12320917,\n",
       "           39.43      , -121.32      ],\n",
       "        [   2.3886    ,   16.        ,    5.25471698, ...,    2.61698113,\n",
       "           39.37      , -121.24      ]]),\n",
       " 'target': array([4.526, 3.585, 3.521, ..., 0.923, 0.847, 0.894]),\n",
       " 'frame': None,\n",
       " 'target_names': ['MedHouseVal'],\n",
       " 'feature_names': ['MedInc',\n",
       "  'HouseAge',\n",
       "  'AveRooms',\n",
       "  'AveBedrms',\n",
       "  'Population',\n",
       "  'AveOccup',\n",
       "  'Latitude',\n",
       "  'Longitude'],\n",
       " 'DESCR': '.. _california_housing_dataset:\\n\\nCalifornia Housing dataset\\n--------------------------\\n\\n**Data Set Characteristics:**\\n\\n    :Number of Instances: 20640\\n\\n    :Number of Attributes: 8 numeric, predictive attributes and the target\\n\\n    :Attribute Information:\\n        - MedInc        median income in block group\\n        - HouseAge      median house age in block group\\n        - AveRooms      average number of rooms per household\\n        - AveBedrms     average number of bedrooms per household\\n        - Population    block group population\\n        - AveOccup      average number of household members\\n        - Latitude      block group latitude\\n        - Longitude     block group longitude\\n\\n    :Missing Attribute Values: None\\n\\nThis dataset was obtained from the StatLib repository.\\nhttps://www.dcc.fc.up.pt/~ltorgo/Regression/cal_housing.html\\n\\nThe target variable is the median house value for California districts,\\nexpressed in hundreds of thousands of dollars ($100,000).\\n\\nThis dataset was derived from the 1990 U.S. census, using one row per census\\nblock group. A block group is the smallest geographical unit for which the U.S.\\nCensus Bureau publishes sample data (a block group typically has a population\\nof 600 to 3,000 people).\\n\\nA household is a group of people residing within a home. Since the average\\nnumber of rooms and bedrooms in this dataset are provided per household, these\\ncolumns may take surprisingly large values for block groups with few households\\nand many empty houses, such as vacation resorts.\\n\\nIt can be downloaded/loaded using the\\n:func:`sklearn.datasets.fetch_california_housing` function.\\n\\n.. topic:: References\\n\\n    - Pace, R. Kelley and Ronald Barry, Sparse Spatial Autoregressions,\\n      Statistics and Probability Letters, 33 (1997) 291-297\\n'}"
      ]
     },
     "execution_count": 3,
     "metadata": {},
     "output_type": "execute_result"
    }
   ],
   "source": [
    "housing"
   ]
  },
  {
   "cell_type": "code",
   "execution_count": 4,
   "id": "af720cde",
   "metadata": {},
   "outputs": [
    {
     "data": {
      "text/plain": [
       "dict_keys(['data', 'target', 'frame', 'target_names', 'feature_names', 'DESCR'])"
      ]
     },
     "execution_count": 4,
     "metadata": {},
     "output_type": "execute_result"
    }
   ],
   "source": [
    "housing.keys()"
   ]
  },
  {
   "cell_type": "code",
   "execution_count": 5,
   "id": "e59fc161",
   "metadata": {},
   "outputs": [],
   "source": [
    "X = pd.DataFrame(housing.data, columns = housing.feature_names)"
   ]
  },
  {
   "cell_type": "code",
   "execution_count": 6,
   "id": "52618936",
   "metadata": {},
   "outputs": [],
   "source": [
    "y = housing.target"
   ]
  },
  {
   "cell_type": "code",
   "execution_count": 7,
   "id": "08c3398d",
   "metadata": {},
   "outputs": [
    {
     "data": {
      "text/html": [
       "<div>\n",
       "<style scoped>\n",
       "    .dataframe tbody tr th:only-of-type {\n",
       "        vertical-align: middle;\n",
       "    }\n",
       "\n",
       "    .dataframe tbody tr th {\n",
       "        vertical-align: top;\n",
       "    }\n",
       "\n",
       "    .dataframe thead th {\n",
       "        text-align: right;\n",
       "    }\n",
       "</style>\n",
       "<table border=\"1\" class=\"dataframe\">\n",
       "  <thead>\n",
       "    <tr style=\"text-align: right;\">\n",
       "      <th></th>\n",
       "      <th>MedInc</th>\n",
       "      <th>HouseAge</th>\n",
       "      <th>AveRooms</th>\n",
       "      <th>AveBedrms</th>\n",
       "      <th>Population</th>\n",
       "      <th>AveOccup</th>\n",
       "      <th>Latitude</th>\n",
       "      <th>Longitude</th>\n",
       "    </tr>\n",
       "  </thead>\n",
       "  <tbody>\n",
       "    <tr>\n",
       "      <th>count</th>\n",
       "      <td>20640.000000</td>\n",
       "      <td>20640.000000</td>\n",
       "      <td>20640.000000</td>\n",
       "      <td>20640.000000</td>\n",
       "      <td>20640.000000</td>\n",
       "      <td>20640.000000</td>\n",
       "      <td>20640.000000</td>\n",
       "      <td>20640.000000</td>\n",
       "    </tr>\n",
       "    <tr>\n",
       "      <th>mean</th>\n",
       "      <td>3.870671</td>\n",
       "      <td>28.639486</td>\n",
       "      <td>5.429000</td>\n",
       "      <td>1.096675</td>\n",
       "      <td>1425.476744</td>\n",
       "      <td>3.070655</td>\n",
       "      <td>35.631861</td>\n",
       "      <td>-119.569704</td>\n",
       "    </tr>\n",
       "    <tr>\n",
       "      <th>std</th>\n",
       "      <td>1.899822</td>\n",
       "      <td>12.585558</td>\n",
       "      <td>2.474173</td>\n",
       "      <td>0.473911</td>\n",
       "      <td>1132.462122</td>\n",
       "      <td>10.386050</td>\n",
       "      <td>2.135952</td>\n",
       "      <td>2.003532</td>\n",
       "    </tr>\n",
       "    <tr>\n",
       "      <th>min</th>\n",
       "      <td>0.499900</td>\n",
       "      <td>1.000000</td>\n",
       "      <td>0.846154</td>\n",
       "      <td>0.333333</td>\n",
       "      <td>3.000000</td>\n",
       "      <td>0.692308</td>\n",
       "      <td>32.540000</td>\n",
       "      <td>-124.350000</td>\n",
       "    </tr>\n",
       "    <tr>\n",
       "      <th>25%</th>\n",
       "      <td>2.563400</td>\n",
       "      <td>18.000000</td>\n",
       "      <td>4.440716</td>\n",
       "      <td>1.006079</td>\n",
       "      <td>787.000000</td>\n",
       "      <td>2.429741</td>\n",
       "      <td>33.930000</td>\n",
       "      <td>-121.800000</td>\n",
       "    </tr>\n",
       "    <tr>\n",
       "      <th>50%</th>\n",
       "      <td>3.534800</td>\n",
       "      <td>29.000000</td>\n",
       "      <td>5.229129</td>\n",
       "      <td>1.048780</td>\n",
       "      <td>1166.000000</td>\n",
       "      <td>2.818116</td>\n",
       "      <td>34.260000</td>\n",
       "      <td>-118.490000</td>\n",
       "    </tr>\n",
       "    <tr>\n",
       "      <th>75%</th>\n",
       "      <td>4.743250</td>\n",
       "      <td>37.000000</td>\n",
       "      <td>6.052381</td>\n",
       "      <td>1.099526</td>\n",
       "      <td>1725.000000</td>\n",
       "      <td>3.282261</td>\n",
       "      <td>37.710000</td>\n",
       "      <td>-118.010000</td>\n",
       "    </tr>\n",
       "    <tr>\n",
       "      <th>max</th>\n",
       "      <td>15.000100</td>\n",
       "      <td>52.000000</td>\n",
       "      <td>141.909091</td>\n",
       "      <td>34.066667</td>\n",
       "      <td>35682.000000</td>\n",
       "      <td>1243.333333</td>\n",
       "      <td>41.950000</td>\n",
       "      <td>-114.310000</td>\n",
       "    </tr>\n",
       "  </tbody>\n",
       "</table>\n",
       "</div>"
      ],
      "text/plain": [
       "             MedInc      HouseAge      AveRooms     AveBedrms    Population  \\\n",
       "count  20640.000000  20640.000000  20640.000000  20640.000000  20640.000000   \n",
       "mean       3.870671     28.639486      5.429000      1.096675   1425.476744   \n",
       "std        1.899822     12.585558      2.474173      0.473911   1132.462122   \n",
       "min        0.499900      1.000000      0.846154      0.333333      3.000000   \n",
       "25%        2.563400     18.000000      4.440716      1.006079    787.000000   \n",
       "50%        3.534800     29.000000      5.229129      1.048780   1166.000000   \n",
       "75%        4.743250     37.000000      6.052381      1.099526   1725.000000   \n",
       "max       15.000100     52.000000    141.909091     34.066667  35682.000000   \n",
       "\n",
       "           AveOccup      Latitude     Longitude  \n",
       "count  20640.000000  20640.000000  20640.000000  \n",
       "mean       3.070655     35.631861   -119.569704  \n",
       "std       10.386050      2.135952      2.003532  \n",
       "min        0.692308     32.540000   -124.350000  \n",
       "25%        2.429741     33.930000   -121.800000  \n",
       "50%        2.818116     34.260000   -118.490000  \n",
       "75%        3.282261     37.710000   -118.010000  \n",
       "max     1243.333333     41.950000   -114.310000  "
      ]
     },
     "execution_count": 7,
     "metadata": {},
     "output_type": "execute_result"
    }
   ],
   "source": [
    "X.describe()"
   ]
  },
  {
   "cell_type": "code",
   "execution_count": 8,
   "id": "e4d647e7",
   "metadata": {},
   "outputs": [
    {
     "data": {
      "text/plain": [
       "MedInc        0\n",
       "HouseAge      0\n",
       "AveRooms      0\n",
       "AveBedrms     0\n",
       "Population    0\n",
       "AveOccup      0\n",
       "Latitude      0\n",
       "Longitude     0\n",
       "dtype: int64"
      ]
     },
     "execution_count": 8,
     "metadata": {},
     "output_type": "execute_result"
    }
   ],
   "source": [
    "X.isna().sum()"
   ]
  },
  {
   "cell_type": "code",
   "execution_count": 9,
   "id": "c011ff7b",
   "metadata": {},
   "outputs": [],
   "source": [
    "#validate the data --- to check the overfittig during training \n",
    "from sklearn.model_selection import train_test_split\n",
    "X_train_full,X_test, y_train_full, y_test = train_test_split(X,y, test_size=0.25, random_state = 42) \n"
   ]
  },
  {
   "cell_type": "code",
   "execution_count": 10,
   "id": "8d17508f",
   "metadata": {},
   "outputs": [
    {
     "data": {
      "text/plain": [
       "((15480, 8), (5160, 8), (15480,), (5160,))"
      ]
     },
     "execution_count": 10,
     "metadata": {},
     "output_type": "execute_result"
    }
   ],
   "source": [
    "X_train_full.shape, X_test.shape, y_train_full.shape, y_test.shape"
   ]
  },
  {
   "cell_type": "code",
   "execution_count": 11,
   "id": "9374fadd",
   "metadata": {},
   "outputs": [],
   "source": [
    "#validation\n",
    "X_train,X_valid,y_train, y_valid = train_test_split(X_train_full, y_train_full, test_size=0.2, random_state = 42)"
   ]
  },
  {
   "cell_type": "code",
   "execution_count": 12,
   "id": "4ecff072",
   "metadata": {},
   "outputs": [],
   "source": [
    "from sklearn.preprocessing import StandardScaler\n",
    "scaler = StandardScaler()\n",
    "X_train_sc = scaler.fit_transform(X_train)\n",
    "X_valid_sc = scaler.transform(X_valid)\n",
    "X_test_sc = scaler.transform(X_test)\n"
   ]
  },
  {
   "cell_type": "code",
   "execution_count": 13,
   "id": "b9a50bd9",
   "metadata": {},
   "outputs": [],
   "source": [
    "from sklearn.linear_model import LinearRegression, Lasso, Ridge, RidgeCV, LassoCV"
   ]
  },
  {
   "cell_type": "code",
   "execution_count": 14,
   "id": "31ad4b02",
   "metadata": {},
   "outputs": [],
   "source": [
    "from sklearn.linear_model import LinearRegression\n"
   ]
  },
  {
   "cell_type": "code",
   "execution_count": 15,
   "id": "8f2e1e72",
   "metadata": {},
   "outputs": [],
   "source": [
    "# how you get to know my model is not overfitting\n",
    "#When accuracy of testing and training data are equivalent\n",
    "from sklearn.metrics import r2_score,mean_absolute_error, mean_squared_error"
   ]
  },
  {
   "cell_type": "code",
   "execution_count": 16,
   "id": "44858cf2",
   "metadata": {},
   "outputs": [
    {
     "name": "stdout",
     "output_type": "stream",
     "text": [
      "mse:  0.5416495457975024\n",
      "mae:  0.5304369421957167\n",
      "r2:  0.590657395189535\n"
     ]
    }
   ],
   "source": [
    "lr = LinearRegression()\n",
    "lr.fit(X_train_sc, y_train)\n",
    "y_pred=lr.predict(X_test_sc)\n",
    "print(\"mse: \", mean_squared_error(y_test, y_pred))\n",
    "print(\"mae: \", mean_absolute_error(y_test, y_pred))\n",
    "print(\"r2: \", r2_score(y_test, y_pred))"
   ]
  },
  {
   "cell_type": "code",
   "execution_count": 17,
   "id": "96231ae0",
   "metadata": {},
   "outputs": [
    {
     "name": "stdout",
     "output_type": "stream",
     "text": [
      "mse:  0.5269443395680388\n",
      "mae:  0.5343232652862433\n"
     ]
    }
   ],
   "source": [
    "#training Prediction \n",
    "y_train_pr = lr.predict(X_train_sc)\n",
    "r2_score(y_train, y_train_pr)\n",
    "print(\"mse: \", mean_squared_error(y_train, y_train_pr))\n",
    "print(\"mae: \", mean_absolute_error(y_train, y_train_pr))\n"
   ]
  },
  {
   "cell_type": "code",
   "execution_count": 18,
   "id": "0f5033e3",
   "metadata": {},
   "outputs": [
    {
     "name": "stdout",
     "output_type": "stream",
     "text": [
      "mse:  0.5412343385974236\n",
      "mae:  0.5303793924246872\n",
      "r2:  0.5909711811017268\n"
     ]
    }
   ],
   "source": [
    "Ridge = RidgeCV()\n",
    "Ridge.fit(X_train_sc, y_train)\n",
    "y_pred=Ridge.predict(X_test_sc)\n",
    "print(\"mse: \", mean_squared_error(y_test, y_pred))\n",
    "print(\"mae: \", mean_absolute_error(y_test, y_pred))\n",
    "print(\"r2: \", r2_score(y_test, y_pred))"
   ]
  },
  {
   "cell_type": "code",
   "execution_count": 19,
   "id": "9eb7815c",
   "metadata": {},
   "outputs": [
    {
     "name": "stdout",
     "output_type": "stream",
     "text": [
      "mse:  0.5381198480855753\n",
      "mae:  0.5369482592974792\n",
      "r2:  0.5933249053292627\n"
     ]
    }
   ],
   "source": [
    "Lasso = LassoCV()\n",
    "Lasso.fit(X_train_sc, y_train)\n",
    "y_pred=Lasso.predict(X_test_sc)\n",
    "print(\"mse: \", mean_squared_error(y_test, y_pred))\n",
    "print(\"mae: \", mean_absolute_error(y_test, y_pred))\n",
    "print(\"r2: \", r2_score(y_test, y_pred))"
   ]
  },
  {
   "cell_type": "markdown",
   "id": "a46b2f27",
   "metadata": {},
   "source": [
    "''elastic = ElasticNet()\n",
    "elastic.fit(X_train_sc, y_train)\n",
    "y_pred=Lasso.predict(X_test_sc)\n",
    "print(\"mse: \", mean_squared_error(y_test, y_pred))\n",
    "print(\"mae: \", mean_absolute_error(y_test, y_pred))\n",
    "print(\"r2: \", r2_score(y_test, y_pred))'''"
   ]
  },
  {
   "cell_type": "code",
   "execution_count": 20,
   "id": "f3acfdfa",
   "metadata": {},
   "outputs": [
    {
     "name": "stdout",
     "output_type": "stream",
     "text": [
      "WARNING:tensorflow:From C:\\Users\\vaish\\anaconda3\\Lib\\site-packages\\keras\\src\\backend.py:873: The name tf.get_default_graph is deprecated. Please use tf.compat.v1.get_default_graph instead.\n",
      "\n"
     ]
    }
   ],
   "source": [
    "#ANN model \n",
    "Layers= [ks.layers.Dense(30, activation = 'relu', input_shape= X_train_sc.shape[1:]),\n",
    "         ks.layers.Dense(10, activation = 'relu'),\n",
    "         ks.layers.Dense(5, activation = 'relu'),\n",
    "         ks.layers.Dense(1)\n",
    "        ]\n"
   ]
  },
  {
   "cell_type": "code",
   "execution_count": 21,
   "id": "b23095f9",
   "metadata": {},
   "outputs": [],
   "source": [
    "model_ann=ks.models.Sequential(Layers)"
   ]
  },
  {
   "cell_type": "code",
   "execution_count": 22,
   "id": "211b9960",
   "metadata": {},
   "outputs": [
    {
     "name": "stdout",
     "output_type": "stream",
     "text": [
      "Model: \"sequential\"\n",
      "_________________________________________________________________\n",
      " Layer (type)                Output Shape              Param #   \n",
      "=================================================================\n",
      " dense (Dense)               (None, 30)                270       \n",
      "                                                                 \n",
      " dense_1 (Dense)             (None, 10)                310       \n",
      "                                                                 \n",
      " dense_2 (Dense)             (None, 5)                 55        \n",
      "                                                                 \n",
      " dense_3 (Dense)             (None, 1)                 6         \n",
      "                                                                 \n",
      "=================================================================\n",
      "Total params: 641 (2.50 KB)\n",
      "Trainable params: 641 (2.50 KB)\n",
      "Non-trainable params: 0 (0.00 Byte)\n",
      "_________________________________________________________________\n"
     ]
    }
   ],
   "source": [
    "model_ann.summary()"
   ]
  },
  {
   "cell_type": "code",
   "execution_count": 23,
   "id": "7e13478b",
   "metadata": {},
   "outputs": [
    {
     "name": "stdout",
     "output_type": "stream",
     "text": [
      "WARNING:tensorflow:From C:\\Users\\vaish\\anaconda3\\Lib\\site-packages\\keras\\src\\optimizers\\__init__.py:309: The name tf.train.Optimizer is deprecated. Please use tf.compat.v1.train.Optimizer instead.\n",
      "\n"
     ]
    }
   ],
   "source": [
    "# when we have more outliers use mae \n",
    "LOSS = \"mse\"\n",
    "OPTIMIZER = \"sgd\"\n",
    "model_ann.compile(optimizer = OPTIMIZER, loss = LOSS)"
   ]
  },
  {
   "cell_type": "code",
   "execution_count": 24,
   "id": "e51fc344",
   "metadata": {},
   "outputs": [
    {
     "name": "stdout",
     "output_type": "stream",
     "text": [
      "Epoch 1/40\n",
      "WARNING:tensorflow:From C:\\Users\\vaish\\anaconda3\\Lib\\site-packages\\keras\\src\\utils\\tf_utils.py:492: The name tf.ragged.RaggedTensorValue is deprecated. Please use tf.compat.v1.ragged.RaggedTensorValue instead.\n",
      "\n",
      "387/387 [==============================] - 2s 2ms/step - loss: 0.7979 - val_loss: 0.5188\n",
      "Epoch 2/40\n",
      "387/387 [==============================] - 1s 2ms/step - loss: 0.5018 - val_loss: 0.4427\n",
      "Epoch 3/40\n",
      "387/387 [==============================] - 1s 2ms/step - loss: 0.4519 - val_loss: 0.4142\n",
      "Epoch 4/40\n",
      "387/387 [==============================] - 1s 2ms/step - loss: 0.4303 - val_loss: 0.3964\n",
      "Epoch 5/40\n",
      "387/387 [==============================] - 1s 2ms/step - loss: 0.4137 - val_loss: 0.3835\n",
      "Epoch 6/40\n",
      "387/387 [==============================] - 1s 2ms/step - loss: 0.4020 - val_loss: 0.3765\n",
      "Epoch 7/40\n",
      "387/387 [==============================] - 1s 2ms/step - loss: 0.3917 - val_loss: 0.3644\n",
      "Epoch 8/40\n",
      "387/387 [==============================] - 1s 2ms/step - loss: 0.3829 - val_loss: 0.3747\n",
      "Epoch 9/40\n",
      "387/387 [==============================] - 1s 2ms/step - loss: 0.3743 - val_loss: 0.3448\n",
      "Epoch 10/40\n",
      "387/387 [==============================] - 1s 2ms/step - loss: 0.3664 - val_loss: 0.3459\n",
      "Epoch 11/40\n",
      "387/387 [==============================] - 1s 2ms/step - loss: 0.3614 - val_loss: 0.3352\n",
      "Epoch 12/40\n",
      "387/387 [==============================] - 1s 2ms/step - loss: 0.3564 - val_loss: 0.3235\n",
      "Epoch 13/40\n",
      "387/387 [==============================] - 1s 2ms/step - loss: 0.3514 - val_loss: 0.3223\n",
      "Epoch 14/40\n",
      "387/387 [==============================] - 1s 2ms/step - loss: 0.3453 - val_loss: 0.3157\n",
      "Epoch 15/40\n",
      "387/387 [==============================] - 1s 2ms/step - loss: 0.3438 - val_loss: 0.3239\n",
      "Epoch 16/40\n",
      "387/387 [==============================] - 1s 2ms/step - loss: 0.3354 - val_loss: 0.3123\n",
      "Epoch 17/40\n",
      "387/387 [==============================] - 1s 2ms/step - loss: 0.3350 - val_loss: 0.3115\n",
      "Epoch 18/40\n",
      "387/387 [==============================] - 1s 2ms/step - loss: 0.3307 - val_loss: 0.3064\n",
      "Epoch 19/40\n",
      "387/387 [==============================] - 1s 2ms/step - loss: 0.3285 - val_loss: 0.3072\n",
      "Epoch 20/40\n",
      "387/387 [==============================] - 1s 2ms/step - loss: 0.3252 - val_loss: 0.3348\n",
      "Epoch 21/40\n",
      "387/387 [==============================] - 1s 2ms/step - loss: 0.3262 - val_loss: 0.3127\n",
      "Epoch 22/40\n",
      "387/387 [==============================] - 1s 2ms/step - loss: 0.3207 - val_loss: 0.3009\n",
      "Epoch 23/40\n",
      "387/387 [==============================] - 1s 2ms/step - loss: 0.3208 - val_loss: 0.3041\n",
      "Epoch 24/40\n",
      "387/387 [==============================] - 1s 2ms/step - loss: 0.3197 - val_loss: 0.3029\n",
      "Epoch 25/40\n",
      "387/387 [==============================] - 1s 2ms/step - loss: 0.3152 - val_loss: 0.3009\n",
      "Epoch 26/40\n",
      "387/387 [==============================] - 1s 2ms/step - loss: 0.3130 - val_loss: 0.2898\n",
      "Epoch 27/40\n",
      "387/387 [==============================] - 1s 2ms/step - loss: 0.3119 - val_loss: 0.2960\n",
      "Epoch 28/40\n",
      "387/387 [==============================] - 1s 2ms/step - loss: 0.3124 - val_loss: 0.2876\n",
      "Epoch 29/40\n",
      "387/387 [==============================] - 1s 2ms/step - loss: 0.3072 - val_loss: 0.2834\n",
      "Epoch 30/40\n",
      "387/387 [==============================] - 1s 2ms/step - loss: 0.3078 - val_loss: 0.3020\n",
      "Epoch 31/40\n",
      "387/387 [==============================] - 1s 2ms/step - loss: 0.3071 - val_loss: 0.2940\n",
      "Epoch 32/40\n",
      "387/387 [==============================] - 1s 2ms/step - loss: 0.3043 - val_loss: 0.2988\n",
      "Epoch 33/40\n",
      "387/387 [==============================] - 1s 2ms/step - loss: 0.3059 - val_loss: 0.2787\n",
      "Epoch 34/40\n",
      "387/387 [==============================] - 1s 2ms/step - loss: 0.3064 - val_loss: 0.2913\n",
      "Epoch 35/40\n",
      "387/387 [==============================] - 1s 2ms/step - loss: 0.3034 - val_loss: 0.2840\n",
      "Epoch 36/40\n",
      "387/387 [==============================] - 1s 2ms/step - loss: 0.3014 - val_loss: 0.2868\n",
      "Epoch 37/40\n",
      "387/387 [==============================] - 1s 2ms/step - loss: 0.3011 - val_loss: 0.2809\n",
      "Epoch 38/40\n",
      "387/387 [==============================] - 1s 2ms/step - loss: 0.3011 - val_loss: 0.2877\n",
      "Epoch 39/40\n",
      "387/387 [==============================] - 1s 2ms/step - loss: 0.2984 - val_loss: 0.2829\n",
      "Epoch 40/40\n",
      "387/387 [==============================] - 1s 2ms/step - loss: 0.2998 - val_loss: 0.3005\n"
     ]
    }
   ],
   "source": [
    "#Epochs is no of iterations\n",
    "#loss == mse for train data\n",
    "Epochs = 40\n",
    "history=model_ann.fit(X_train_sc, y_train, epochs=Epochs, validation_data=(X_valid_sc,y_valid))\n"
   ]
  },
  {
   "cell_type": "code",
   "execution_count": 25,
   "id": "63dccbf4",
   "metadata": {},
   "outputs": [
    {
     "data": {
      "text/plain": [
       "<Axes: >"
      ]
     },
     "execution_count": 25,
     "metadata": {},
     "output_type": "execute_result"
    },
    {
     "data": {
      "image/png": "[encoded data removed]",
      "text/plain": [
       "<Figure size 640x480 with 1 Axes>"
      ]
     },
     "metadata": {},
     "output_type": "display_data"
    }
   ],
   "source": [
    "pd.DataFrame(history.history).plot()"
   ]
  },
  {
   "cell_type": "code",
   "execution_count": 26,
   "id": "009eb05b",
   "metadata": {},
   "outputs": [
    {
     "name": "stdout",
     "output_type": "stream",
     "text": [
      "162/162 [==============================] - 0s 1ms/step - loss: 0.3227\n"
     ]
    },
    {
     "data": {
      "text/plain": [
       "0.32266464829444885"
      ]
     },
     "execution_count": 26,
     "metadata": {},
     "output_type": "execute_result"
    }
   ],
   "source": [
    "model_ann.evaluate(X_test_sc,y_test)"
   ]
  },
  {
   "cell_type": "code",
   "execution_count": 27,
   "id": "2d29be26",
   "metadata": {},
   "outputs": [
    {
     "name": "stdout",
     "output_type": "stream",
     "text": [
      "162/162 [==============================] - 0s 2ms/step\n"
     ]
    }
   ],
   "source": [
    "y_pred_ann=model_ann.predict(X_test_sc)"
   ]
  },
  {
   "cell_type": "code",
   "execution_count": 28,
   "id": "aa690029",
   "metadata": {},
   "outputs": [
    {
     "data": {
      "text/plain": [
       "0.32266467992989933"
      ]
     },
     "execution_count": 28,
     "metadata": {},
     "output_type": "execute_result"
    }
   ],
   "source": [
    "mean_squared_error(y_pred_ann, y_test)"
   ]
  },
  {
   "cell_type": "code",
   "execution_count": 29,
   "id": "961390d0",
   "metadata": {},
   "outputs": [
    {
     "data": {
      "text/plain": [
       "0.7355491580443263"
      ]
     },
     "execution_count": 29,
     "metadata": {},
     "output_type": "execute_result"
    }
   ],
   "source": [
    "r2_score(y_pred_ann, y_test)"
   ]
  },
  {
   "cell_type": "code",
   "execution_count": 30,
   "id": "0b3a053a",
   "metadata": {},
   "outputs": [],
   "source": [
    "#!pip install statsmodels\n",
    "from statsmodels.stats.outliers_influence import variance_inflation_factor\n",
    "from statsmodels.tools.tools import add_constant\n",
    "\n",
    "data_with_const = add_constant(X_train_full)\n",
    "\n",
    "vif_data = pd.DataFrame()\n",
    "vif_data[\"Variable\"] = data_with_const.columns\n",
    "vif_data[\"VIF\"] = [variance_inflation_factor(data_with_const.values, i) for i in range(data_with_const.shape[1])]\n",
    "\n"
   ]
  },
  {
   "cell_type": "code",
   "execution_count": 31,
   "id": "8f7427f7",
   "metadata": {},
   "outputs": [
    {
     "name": "stdout",
     "output_type": "stream",
     "text": [
      "     Variable           VIF\n",
      "0       const  16858.524431\n",
      "1      MedInc      2.528610\n",
      "2    HouseAge      1.236013\n",
      "3    AveRooms      8.117246\n",
      "4   AveBedrms      6.804995\n",
      "5  Population      1.133877\n",
      "6    AveOccup      1.010129\n",
      "7    Latitude      9.147410\n",
      "8   Longitude      8.821280\n"
     ]
    }
   ],
   "source": [
    "print(vif_data)"
   ]
  },
  {
   "cell_type": "code",
   "execution_count": 32,
   "id": "8d821c48",
   "metadata": {},
   "outputs": [],
   "source": [
    "#batch normalization\n",
    "Layers= [ks.layers.Dense(30, activation = 'relu', input_shape= X_train_sc.shape[1:]),\n",
    "         ks.layers.BatchNormalization(),\n",
    "         ks.layers.Dense(10, activation = 'relu'),\n",
    "         ks.layers.BatchNormalization(),\n",
    "         ks.layers.Dense(5, activation = 'relu'),\n",
    "         ks.layers.BatchNormalization(),\n",
    "         ks.layers.Dense(1)\n",
    "        ]"
   ]
  },
  {
   "cell_type": "code",
   "execution_count": 33,
   "id": "76fcefdf",
   "metadata": {},
   "outputs": [],
   "source": [
    "model_ann1=ks.models.Sequential(Layers)"
   ]
  },
  {
   "cell_type": "code",
   "execution_count": 34,
   "id": "7f17db8c",
   "metadata": {},
   "outputs": [
    {
     "name": "stdout",
     "output_type": "stream",
     "text": [
      "Model: \"sequential_1\"\n",
      "_________________________________________________________________\n",
      " Layer (type)                Output Shape              Param #   \n",
      "=================================================================\n",
      " dense_4 (Dense)             (None, 30)                270       \n",
      "                                                                 \n",
      " batch_normalization (Batch  (None, 30)                120       \n",
      " Normalization)                                                  \n",
      "                                                                 \n",
      " dense_5 (Dense)             (None, 10)                310       \n",
      "                                                                 \n",
      " batch_normalization_1 (Bat  (None, 10)                40        \n",
      " chNormalization)                                                \n",
      "                                                                 \n",
      " dense_6 (Dense)             (None, 5)                 55        \n",
      "                                                                 \n",
      " batch_normalization_2 (Bat  (None, 5)                 20        \n",
      " chNormalization)                                                \n",
      "                                                                 \n",
      " dense_7 (Dense)             (None, 1)                 6         \n",
      "                                                                 \n",
      "=================================================================\n",
      "Total params: 821 (3.21 KB)\n",
      "Trainable params: 731 (2.86 KB)\n",
      "Non-trainable params: 90 (360.00 Byte)\n",
      "_________________________________________________________________\n"
     ]
    }
   ],
   "source": [
    "model_ann1.summary()"
   ]
  },
  {
   "cell_type": "code",
   "execution_count": 35,
   "id": "f7564692",
   "metadata": {},
   "outputs": [],
   "source": [
    "LOSS = \"mse\"\n",
    "OPTIMIZER = \"sgd\"\n",
    "model_ann1.compile(optimizer = OPTIMIZER, loss = LOSS)"
   ]
  },
  {
   "cell_type": "code",
   "execution_count": 36,
   "id": "c95507b9",
   "metadata": {},
   "outputs": [
    {
     "name": "stdout",
     "output_type": "stream",
     "text": [
      "Epoch 1/40\n",
      "387/387 [==============================] - 2s 3ms/step - loss: 0.7843 - val_loss: 0.5610\n",
      "Epoch 2/40\n",
      "387/387 [==============================] - 1s 3ms/step - loss: 0.4903 - val_loss: 0.4921\n",
      "Epoch 3/40\n",
      "387/387 [==============================] - 1s 3ms/step - loss: 0.4649 - val_loss: 0.5142\n",
      "Epoch 4/40\n",
      "387/387 [==============================] - 1s 3ms/step - loss: 0.4381 - val_loss: 0.4766\n",
      "Epoch 5/40\n",
      "387/387 [==============================] - 1s 3ms/step - loss: 0.4403 - val_loss: 0.5007\n",
      "Epoch 6/40\n",
      "387/387 [==============================] - 1s 3ms/step - loss: 0.4263 - val_loss: 0.4704\n",
      "Epoch 7/40\n",
      "387/387 [==============================] - 1s 3ms/step - loss: 0.4227 - val_loss: 0.4411\n",
      "Epoch 8/40\n",
      "387/387 [==============================] - 1s 3ms/step - loss: 0.4124 - val_loss: 0.4513\n",
      "Epoch 9/40\n",
      "387/387 [==============================] - 1s 3ms/step - loss: 0.4045 - val_loss: 0.4037\n",
      "Epoch 10/40\n",
      "387/387 [==============================] - 1s 3ms/step - loss: 0.4074 - val_loss: 0.3963\n",
      "Epoch 11/40\n",
      "387/387 [==============================] - 1s 3ms/step - loss: 0.4063 - val_loss: 0.3998\n",
      "Epoch 12/40\n",
      "387/387 [==============================] - 1s 3ms/step - loss: 0.3930 - val_loss: 0.4044\n",
      "Epoch 13/40\n",
      "387/387 [==============================] - 1s 3ms/step - loss: 0.3987 - val_loss: 0.4012\n",
      "Epoch 14/40\n",
      "387/387 [==============================] - 1s 3ms/step - loss: 0.3890 - val_loss: 0.3929\n",
      "Epoch 15/40\n",
      "387/387 [==============================] - 1s 3ms/step - loss: 0.3926 - val_loss: 0.3559\n",
      "Epoch 16/40\n",
      "387/387 [==============================] - 1s 3ms/step - loss: 0.3940 - val_loss: 0.3538\n",
      "Epoch 17/40\n",
      "387/387 [==============================] - 1s 3ms/step - loss: 0.3800 - val_loss: 0.3828\n",
      "Epoch 18/40\n",
      "387/387 [==============================] - 1s 3ms/step - loss: 0.3801 - val_loss: 0.3529\n",
      "Epoch 19/40\n",
      "387/387 [==============================] - 1s 3ms/step - loss: 0.3796 - val_loss: 0.3390\n",
      "Epoch 20/40\n",
      "387/387 [==============================] - 1s 3ms/step - loss: 0.3817 - val_loss: 0.3309\n",
      "Epoch 21/40\n",
      "387/387 [==============================] - 1s 3ms/step - loss: 0.3717 - val_loss: 0.3334\n",
      "Epoch 22/40\n",
      "387/387 [==============================] - 1s 3ms/step - loss: 0.3761 - val_loss: 0.3562\n",
      "Epoch 23/40\n",
      "387/387 [==============================] - 1s 3ms/step - loss: 0.3697 - val_loss: 0.3467\n",
      "Epoch 24/40\n",
      "387/387 [==============================] - 1s 3ms/step - loss: 0.3687 - val_loss: 0.3330\n",
      "Epoch 25/40\n",
      "387/387 [==============================] - 1s 3ms/step - loss: 0.3779 - val_loss: 0.3468\n",
      "Epoch 26/40\n",
      "387/387 [==============================] - 1s 3ms/step - loss: 0.3695 - val_loss: 0.3343\n",
      "Epoch 27/40\n",
      "387/387 [==============================] - 1s 3ms/step - loss: 0.3766 - val_loss: 0.3572\n",
      "Epoch 28/40\n",
      "387/387 [==============================] - 1s 3ms/step - loss: 0.3788 - val_loss: 0.3217\n",
      "Epoch 29/40\n",
      "387/387 [==============================] - 1s 3ms/step - loss: 0.3589 - val_loss: 0.3375\n",
      "Epoch 30/40\n",
      "387/387 [==============================] - 1s 3ms/step - loss: 0.3597 - val_loss: 0.3094\n",
      "Epoch 31/40\n",
      "387/387 [==============================] - 1s 3ms/step - loss: 0.3677 - val_loss: 0.3347\n",
      "Epoch 32/40\n",
      "387/387 [==============================] - 1s 3ms/step - loss: 0.3580 - val_loss: 0.3445\n",
      "Epoch 33/40\n",
      "387/387 [==============================] - 1s 3ms/step - loss: 0.3641 - val_loss: 0.3233\n",
      "Epoch 34/40\n",
      "387/387 [==============================] - 1s 3ms/step - loss: 0.3674 - val_loss: 0.3719\n",
      "Epoch 35/40\n",
      "387/387 [==============================] - 1s 3ms/step - loss: 0.3617 - val_loss: 0.3346\n",
      "Epoch 36/40\n",
      "387/387 [==============================] - 1s 3ms/step - loss: 0.3615 - val_loss: 0.3318\n",
      "Epoch 37/40\n",
      "387/387 [==============================] - 1s 3ms/step - loss: 0.3552 - val_loss: 0.3212\n",
      "Epoch 38/40\n",
      "387/387 [==============================] - 1s 3ms/step - loss: 0.3544 - val_loss: 0.3663\n",
      "Epoch 39/40\n",
      "387/387 [==============================] - 1s 3ms/step - loss: 0.3526 - val_loss: 0.2975\n",
      "Epoch 40/40\n",
      "387/387 [==============================] - 1s 3ms/step - loss: 0.3546 - val_loss: 0.2976\n"
     ]
    }
   ],
   "source": [
    "Epochs = 40\n",
    "history=model_ann1.fit(X_train_sc, y_train, epochs=Epochs, validation_data=(X_valid_sc,y_valid))\n"
   ]
  },
  {
   "cell_type": "code",
   "execution_count": 39,
   "id": "f7f8b359",
   "metadata": {},
   "outputs": [
    {
     "name": "stdout",
     "output_type": "stream",
     "text": [
      "162/162 [==============================] - 0s 2ms/step\n"
     ]
    }
   ],
   "source": [
    "y_pred_ann1=model_ann1.predict(X_test_sc)"
   ]
  },
  {
   "cell_type": "code",
   "execution_count": 40,
   "id": "8e6d60e3",
   "metadata": {},
   "outputs": [
    {
     "data": {
      "text/plain": [
       "0.3170574998105281"
      ]
     },
     "execution_count": 40,
     "metadata": {},
     "output_type": "execute_result"
    }
   ],
   "source": [
    "mean_squared_error(y_pred_ann1, y_test)"
   ]
  },
  {
   "cell_type": "code",
   "execution_count": 41,
   "id": "ffaf985e",
   "metadata": {},
   "outputs": [
    {
     "data": {
      "text/plain": [
       "0.68043701408647"
      ]
     },
     "execution_count": 41,
     "metadata": {},
     "output_type": "execute_result"
    }
   ],
   "source": [
    "r2_score(y_pred_ann1, y_test)"
   ]
  },
  {
   "cell_type": "code",
   "execution_count": 42,
   "id": "0f057f04",
   "metadata": {},
   "outputs": [],
   "source": [
    "import pickle\n",
    "pickle.dump(scaler,open('scaler.pkl','wb'))\n",
    "pickle.dump(lr,open('lr.pkl','wb'))\n"
   ]
  },
  {
   "cell_type": "code",
   "execution_count": 43,
   "id": "332a3ee9",
   "metadata": {},
   "outputs": [
    {
     "data": {
      "text/html": [
       "<div>\n",
       "<style scoped>\n",
       "    .dataframe tbody tr th:only-of-type {\n",
       "        vertical-align: middle;\n",
       "    }\n",
       "\n",
       "    .dataframe tbody tr th {\n",
       "        vertical-align: top;\n",
       "    }\n",
       "\n",
       "    .dataframe thead th {\n",
       "        text-align: right;\n",
       "    }\n",
       "</style>\n",
       "<table border=\"1\" class=\"dataframe\">\n",
       "  <thead>\n",
       "    <tr style=\"text-align: right;\">\n",
       "      <th></th>\n",
       "      <th>MedInc</th>\n",
       "      <th>HouseAge</th>\n",
       "      <th>AveRooms</th>\n",
       "      <th>AveBedrms</th>\n",
       "      <th>Population</th>\n",
       "      <th>AveOccup</th>\n",
       "      <th>Latitude</th>\n",
       "      <th>Longitude</th>\n",
       "    </tr>\n",
       "  </thead>\n",
       "  <tbody>\n",
       "    <tr>\n",
       "      <th>count</th>\n",
       "      <td>20640.000000</td>\n",
       "      <td>20640.000000</td>\n",
       "      <td>20640.000000</td>\n",
       "      <td>20640.000000</td>\n",
       "      <td>20640.000000</td>\n",
       "      <td>20640.000000</td>\n",
       "      <td>20640.000000</td>\n",
       "      <td>20640.000000</td>\n",
       "    </tr>\n",
       "    <tr>\n",
       "      <th>mean</th>\n",
       "      <td>3.870671</td>\n",
       "      <td>28.639486</td>\n",
       "      <td>5.429000</td>\n",
       "      <td>1.096675</td>\n",
       "      <td>1425.476744</td>\n",
       "      <td>3.070655</td>\n",
       "      <td>35.631861</td>\n",
       "      <td>-119.569704</td>\n",
       "    </tr>\n",
       "    <tr>\n",
       "      <th>std</th>\n",
       "      <td>1.899822</td>\n",
       "      <td>12.585558</td>\n",
       "      <td>2.474173</td>\n",
       "      <td>0.473911</td>\n",
       "      <td>1132.462122</td>\n",
       "      <td>10.386050</td>\n",
       "      <td>2.135952</td>\n",
       "      <td>2.003532</td>\n",
       "    </tr>\n",
       "    <tr>\n",
       "      <th>min</th>\n",
       "      <td>0.499900</td>\n",
       "      <td>1.000000</td>\n",
       "      <td>0.846154</td>\n",
       "      <td>0.333333</td>\n",
       "      <td>3.000000</td>\n",
       "      <td>0.692308</td>\n",
       "      <td>32.540000</td>\n",
       "      <td>-124.350000</td>\n",
       "    </tr>\n",
       "    <tr>\n",
       "      <th>25%</th>\n",
       "      <td>2.563400</td>\n",
       "      <td>18.000000</td>\n",
       "      <td>4.440716</td>\n",
       "      <td>1.006079</td>\n",
       "      <td>787.000000</td>\n",
       "      <td>2.429741</td>\n",
       "      <td>33.930000</td>\n",
       "      <td>-121.800000</td>\n",
       "    </tr>\n",
       "    <tr>\n",
       "      <th>50%</th>\n",
       "      <td>3.534800</td>\n",
       "      <td>29.000000</td>\n",
       "      <td>5.229129</td>\n",
       "      <td>1.048780</td>\n",
       "      <td>1166.000000</td>\n",
       "      <td>2.818116</td>\n",
       "      <td>34.260000</td>\n",
       "      <td>-118.490000</td>\n",
       "    </tr>\n",
       "    <tr>\n",
       "      <th>75%</th>\n",
       "      <td>4.743250</td>\n",
       "      <td>37.000000</td>\n",
       "      <td>6.052381</td>\n",
       "      <td>1.099526</td>\n",
       "      <td>1725.000000</td>\n",
       "      <td>3.282261</td>\n",
       "      <td>37.710000</td>\n",
       "      <td>-118.010000</td>\n",
       "    </tr>\n",
       "    <tr>\n",
       "      <th>max</th>\n",
       "      <td>15.000100</td>\n",
       "      <td>52.000000</td>\n",
       "      <td>141.909091</td>\n",
       "      <td>34.066667</td>\n",
       "      <td>35682.000000</td>\n",
       "      <td>1243.333333</td>\n",
       "      <td>41.950000</td>\n",
       "      <td>-114.310000</td>\n",
       "    </tr>\n",
       "  </tbody>\n",
       "</table>\n",
       "</div>"
      ],
      "text/plain": [
       "             MedInc      HouseAge      AveRooms     AveBedrms    Population  \\\n",
       "count  20640.000000  20640.000000  20640.000000  20640.000000  20640.000000   \n",
       "mean       3.870671     28.639486      5.429000      1.096675   1425.476744   \n",
       "std        1.899822     12.585558      2.474173      0.473911   1132.462122   \n",
       "min        0.499900      1.000000      0.846154      0.333333      3.000000   \n",
       "25%        2.563400     18.000000      4.440716      1.006079    787.000000   \n",
       "50%        3.534800     29.000000      5.229129      1.048780   1166.000000   \n",
       "75%        4.743250     37.000000      6.052381      1.099526   1725.000000   \n",
       "max       15.000100     52.000000    141.909091     34.066667  35682.000000   \n",
       "\n",
       "           AveOccup      Latitude     Longitude  \n",
       "count  20640.000000  20640.000000  20640.000000  \n",
       "mean       3.070655     35.631861   -119.569704  \n",
       "std       10.386050      2.135952      2.003532  \n",
       "min        0.692308     32.540000   -124.350000  \n",
       "25%        2.429741     33.930000   -121.800000  \n",
       "50%        2.818116     34.260000   -118.490000  \n",
       "75%        3.282261     37.710000   -118.010000  \n",
       "max     1243.333333     41.950000   -114.310000  "
      ]
     },
     "execution_count": 43,
     "metadata": {},
     "output_type": "execute_result"
    }
   ],
   "source": [
    "X.describe()"
   ]
  }
 ],
 "metadata": {
  "kernelspec": {
   "display_name": "Python 3 (ipykernel)",
   "language": "python",
   "name": "python3"
  },
  "language_info": {
   "codemirror_mode": {
    "name": "ipython",
    "version": 3
   },
   "file_extension": ".py",
   "mimetype": "text/x-python",
   "name": "python",
   "nbconvert_exporter": "python",
   "pygments_lexer": "ipython3",
   "version": "3.11.4"
  }
 },
 "nbformat": 4,
 "nbformat_minor": 5
}
